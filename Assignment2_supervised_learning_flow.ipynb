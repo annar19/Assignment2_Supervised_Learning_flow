{
 "cells": [
  {
   "cell_type": "markdown",
   "id": "ec202ada",
   "metadata": {},
   "source": [
    "# Assignment2 - Supervised Learning flow"
   ]
  },
  {
   "cell_type": "markdown",
   "id": "b06a2810",
   "metadata": {},
   "source": [
    "# Part 1 - Student details:\n",
    "* Please write the First Name and last 4 digits of the i.d. for each student. For example:\n",
    "<pre>Israel 9812</pre>"
   ]
  },
  {
   "cell_type": "code",
   "execution_count": 3,
   "id": "ca16486b",
   "metadata": {},
   "outputs": [],
   "source": [
    "# student 1:ANNA 6868"
   ]
  },
  {
   "cell_type": "markdown",
   "id": "8181fb9d-9d2d-425f-845e-88424a850383",
   "metadata": {},
   "source": [
    "This project applies supervised machine learning techniques to the Titanic dataset, aiming to predict passenger survival based on features like age, gender, and ticket class. We will preprocess the data, build models, and evaluate them. The Titanic dataset, with its mix of categorical and numerical features, provides a well-rounded introduction to supervised learning and model evaluation.\n",
    "\n",
    "not survived = 0 survived = 1,woman = 0 man = 1 "
   ]
  },
  {
   "cell_type": "markdown",
   "id": "df67c2ee-87c8-499c-a04f-1853c332f51d",
   "metadata": {},
   "source": [
    "## Part 2 - Initial Preparations \n",
    "You could add as many code cells as needed"
   ]
  },
  {
   "cell_type": "code",
   "execution_count": 6,
   "id": "b29b3454-b568-4614-8017-f15b3c59fc55",
   "metadata": {},
   "outputs": [],
   "source": [
    "# Import required libraries\n",
    "\n",
    "import pandas as pd\n",
    "import numpy as np\n",
    "import matplotlib.pyplot as plt\n",
    "import seaborn as sns\n",
    "from sklearn.metrics import *\n",
    "from sklearn.metrics import confusion_matrix\n",
    "from sklearn.ensemble import GradientBoostingClassifier as gbc\n",
    "from sklearn.pipeline import Pipeline\n",
    "from sklearn.neighbors import KNeighborsClassifier as KNN\n",
    "from sklearn.naive_bayes import MultinomialNB as nb\n",
    "from sklearn.model_selection import GridSearchCV as GridS, KFold, StratifiedKFold\n",
    "from sklearn.feature_selection import SelectKBest, VarianceThreshold, r_regression as pearson\n",
    "from sklearn.preprocessing import StandardScaler, MinMaxScaler, OneHotEncoder\n",
    "from sklearn.neural_network import MLPClassifier\n",
    "from sklearn.ensemble import RandomForestClassifier as rf\n",
    "from sklearn.metrics import confusion_matrix, f1_score\n",
    "from sklearn.impute import SimpleImputer \n",
    "from sklearn.compose import ColumnTransformer\n",
    "from sklearn.ensemble import RandomForestClassifier"
   ]
  },
  {
   "cell_type": "code",
   "execution_count": 7,
   "id": "4b47fe56-d611-4b28-be92-673db4d56400",
   "metadata": {},
   "outputs": [],
   "source": [
    "#load train and test\n",
    "train = pd.read_csv(\"titanic_train.csv\")\n",
    "test = pd.read_csv(\"titanic_test.csv\")\n"
   ]
  },
  {
   "cell_type": "code",
   "execution_count": 8,
   "id": "8e3b0c1f-71e3-4ee3-bee0-204da11858f1",
   "metadata": {},
   "outputs": [
    {
     "name": "stdout",
     "output_type": "stream",
     "text": [
      "\u001b[1mTrain dataset:\u001b[0m\n",
      "   Pclass  Sex   Age  SibSp  Parch     Fare  Embarked  Survived\n",
      "0       1    0  54.0      1      0  78.2667         1         1\n",
      "1       2    0  45.0      0      0  13.5000         0         1\n",
      "2       3    1  20.0      0      0   9.5000         0         0\n",
      "3       3    1  36.0      0      0   7.8958         0         0\n",
      "4       3    1  22.0      0      0   8.0500         0         0\n",
      "\n",
      "------------------------------------------------------------------------------------\n",
      "\n",
      "\u001b[1mTest dataset:\u001b[0m\n",
      "   Pclass  Sex        Age  SibSp  Parch     Fare  Embarked  Survived\n",
      "0       3    1  35.000000      0      0   7.0500         0         0\n",
      "1       3    1  30.000000      0      0   7.2500         0         0\n",
      "2       3    1  29.699118      0      0  14.5000         0         0\n",
      "3       3    0  21.000000      0      0   7.7500         2         0\n",
      "4       3    1  32.000000      0      0  56.4958         0         1\n"
     ]
    }
   ],
   "source": [
    "#Print first 5 rows of each dataset \n",
    "print('\\033[1m'+\"Train dataset:\"+ '\\033[0m')\n",
    "print(train.head())\n",
    "print(\"\\n------------------------------------------------------------------------------------\\n\")\n",
    "print('\\033[1m'+\"Test dataset:\"+ '\\033[0m')\n",
    "print(test.head())"
   ]
  },
  {
   "cell_type": "markdown",
   "id": "76451737-3a8b-459b-a865-a2c0fdddf2ab",
   "metadata": {},
   "source": [
    "### EDA"
   ]
  },
  {
   "cell_type": "code",
   "execution_count": 10,
   "id": "9b04e441-789c-41d7-9149-f8f431a0e67c",
   "metadata": {},
   "outputs": [
    {
     "name": "stdout",
     "output_type": "stream",
     "text": [
      "\u001b[1mTrain info:\u001b[0m\n",
      "<class 'pandas.core.frame.DataFrame'>\n",
      "RangeIndex: 712 entries, 0 to 711\n",
      "Data columns (total 8 columns):\n",
      " #   Column    Non-Null Count  Dtype  \n",
      "---  ------    --------------  -----  \n",
      " 0   Pclass    712 non-null    int64  \n",
      " 1   Sex       712 non-null    int64  \n",
      " 2   Age       712 non-null    float64\n",
      " 3   SibSp     712 non-null    int64  \n",
      " 4   Parch     712 non-null    int64  \n",
      " 5   Fare      712 non-null    float64\n",
      " 6   Embarked  712 non-null    int64  \n",
      " 7   Survived  712 non-null    int64  \n",
      "dtypes: float64(2), int64(6)\n",
      "memory usage: 44.6 KB\n"
     ]
    }
   ],
   "source": [
    "#Basic statistics\n",
    "print('\\033[1m'+\"Train info:\"+ '\\033[0m')\n",
    "train.info()"
   ]
  },
  {
   "cell_type": "code",
   "execution_count": 11,
   "id": "38eff146-2ae2-49e8-9974-89740966915b",
   "metadata": {},
   "outputs": [
    {
     "data": {
      "text/html": [
       "<div>\n",
       "<style scoped>\n",
       "    .dataframe tbody tr th:only-of-type {\n",
       "        vertical-align: middle;\n",
       "    }\n",
       "\n",
       "    .dataframe tbody tr th {\n",
       "        vertical-align: top;\n",
       "    }\n",
       "\n",
       "    .dataframe thead th {\n",
       "        text-align: right;\n",
       "    }\n",
       "</style>\n",
       "<table border=\"1\" class=\"dataframe\">\n",
       "  <thead>\n",
       "    <tr style=\"text-align: right;\">\n",
       "      <th></th>\n",
       "      <th>Pclass</th>\n",
       "      <th>Sex</th>\n",
       "      <th>Age</th>\n",
       "      <th>SibSp</th>\n",
       "      <th>Parch</th>\n",
       "      <th>Fare</th>\n",
       "      <th>Embarked</th>\n",
       "      <th>Survived</th>\n",
       "    </tr>\n",
       "  </thead>\n",
       "  <tbody>\n",
       "    <tr>\n",
       "      <th>count</th>\n",
       "      <td>712.000000</td>\n",
       "      <td>712.000000</td>\n",
       "      <td>712.000000</td>\n",
       "      <td>712.000000</td>\n",
       "      <td>712.000000</td>\n",
       "      <td>712.000000</td>\n",
       "      <td>712.000000</td>\n",
       "      <td>712.000000</td>\n",
       "    </tr>\n",
       "    <tr>\n",
       "      <th>mean</th>\n",
       "      <td>2.294944</td>\n",
       "      <td>0.640449</td>\n",
       "      <td>29.531213</td>\n",
       "      <td>0.528090</td>\n",
       "      <td>0.384831</td>\n",
       "      <td>32.379429</td>\n",
       "      <td>0.372191</td>\n",
       "      <td>0.394663</td>\n",
       "    </tr>\n",
       "    <tr>\n",
       "      <th>std</th>\n",
       "      <td>0.841990</td>\n",
       "      <td>0.480206</td>\n",
       "      <td>13.188028</td>\n",
       "      <td>1.055052</td>\n",
       "      <td>0.803085</td>\n",
       "      <td>49.836074</td>\n",
       "      <td>0.649970</td>\n",
       "      <td>0.489122</td>\n",
       "    </tr>\n",
       "    <tr>\n",
       "      <th>min</th>\n",
       "      <td>1.000000</td>\n",
       "      <td>0.000000</td>\n",
       "      <td>0.670000</td>\n",
       "      <td>0.000000</td>\n",
       "      <td>0.000000</td>\n",
       "      <td>0.000000</td>\n",
       "      <td>0.000000</td>\n",
       "      <td>0.000000</td>\n",
       "    </tr>\n",
       "    <tr>\n",
       "      <th>25%</th>\n",
       "      <td>1.750000</td>\n",
       "      <td>0.000000</td>\n",
       "      <td>22.000000</td>\n",
       "      <td>0.000000</td>\n",
       "      <td>0.000000</td>\n",
       "      <td>7.925000</td>\n",
       "      <td>0.000000</td>\n",
       "      <td>0.000000</td>\n",
       "    </tr>\n",
       "    <tr>\n",
       "      <th>50%</th>\n",
       "      <td>3.000000</td>\n",
       "      <td>1.000000</td>\n",
       "      <td>29.699118</td>\n",
       "      <td>0.000000</td>\n",
       "      <td>0.000000</td>\n",
       "      <td>14.500000</td>\n",
       "      <td>0.000000</td>\n",
       "      <td>0.000000</td>\n",
       "    </tr>\n",
       "    <tr>\n",
       "      <th>75%</th>\n",
       "      <td>3.000000</td>\n",
       "      <td>1.000000</td>\n",
       "      <td>35.000000</td>\n",
       "      <td>1.000000</td>\n",
       "      <td>0.000000</td>\n",
       "      <td>31.275000</td>\n",
       "      <td>1.000000</td>\n",
       "      <td>1.000000</td>\n",
       "    </tr>\n",
       "    <tr>\n",
       "      <th>max</th>\n",
       "      <td>3.000000</td>\n",
       "      <td>1.000000</td>\n",
       "      <td>80.000000</td>\n",
       "      <td>8.000000</td>\n",
       "      <td>6.000000</td>\n",
       "      <td>512.329200</td>\n",
       "      <td>3.000000</td>\n",
       "      <td>1.000000</td>\n",
       "    </tr>\n",
       "  </tbody>\n",
       "</table>\n",
       "</div>"
      ],
      "text/plain": [
       "           Pclass         Sex         Age       SibSp       Parch        Fare  \\\n",
       "count  712.000000  712.000000  712.000000  712.000000  712.000000  712.000000   \n",
       "mean     2.294944    0.640449   29.531213    0.528090    0.384831   32.379429   \n",
       "std      0.841990    0.480206   13.188028    1.055052    0.803085   49.836074   \n",
       "min      1.000000    0.000000    0.670000    0.000000    0.000000    0.000000   \n",
       "25%      1.750000    0.000000   22.000000    0.000000    0.000000    7.925000   \n",
       "50%      3.000000    1.000000   29.699118    0.000000    0.000000   14.500000   \n",
       "75%      3.000000    1.000000   35.000000    1.000000    0.000000   31.275000   \n",
       "max      3.000000    1.000000   80.000000    8.000000    6.000000  512.329200   \n",
       "\n",
       "         Embarked    Survived  \n",
       "count  712.000000  712.000000  \n",
       "mean     0.372191    0.394663  \n",
       "std      0.649970    0.489122  \n",
       "min      0.000000    0.000000  \n",
       "25%      0.000000    0.000000  \n",
       "50%      0.000000    0.000000  \n",
       "75%      1.000000    1.000000  \n",
       "max      3.000000    1.000000  "
      ]
     },
     "execution_count": 11,
     "metadata": {},
     "output_type": "execute_result"
    }
   ],
   "source": [
    "#Basic statistics\n",
    "train.describe()"
   ]
  },
  {
   "cell_type": "markdown",
   "id": "271602c6-bfac-4cb2-8128-ae719230f760",
   "metadata": {},
   "source": [
    "#### Creating correlation matrix"
   ]
  },
  {
   "cell_type": "code",
   "execution_count": 13,
   "id": "afedcfc9-5892-4171-93ba-a63002ec1f66",
   "metadata": {},
   "outputs": [
    {
     "data": {
      "image/png": "[encoded data removed]",
      "text/plain": [
       "<Figure size 1000x800 with 2 Axes>"
      ]
     },
     "metadata": {},
     "output_type": "display_data"
    }
   ],
   "source": [
    "#visualizations statistics \n",
    "plt.figure(figsize=(10, 8))\n",
    "sns.heatmap(train.corr(), annot=True, cmap='RdPu')\n",
    "plt.show()"
   ]
  },
  {
   "cell_type": "markdown",
   "id": "429e270b-f275-4217-8597-12bb73c8dacc",
   "metadata": {},
   "source": [
    "#### Creates a two bar charts to visualize the number of male and female passengers who survived or did not survive the Titanic disaster, \n",
    "#### with red bars = deaths and green = survivors"
   ]
  },
  {
   "cell_type": "code",
   "execution_count": 15,
   "id": "23a80627-28aa-47fa-86a8-ff4e27407f5b",
   "metadata": {},
   "outputs": [
    {
     "name": "stdout",
     "output_type": "stream",
     "text": [
      "Male not survived=368.Famle not survived=63.Male survived=88.Famle survived=193.\n",
      "\n"
     ]
    },
    {
     "data": {
      "image/png": "[encoded data removed]",
      "text/plain": [
       "<Figure size 1000x600 with 2 Axes>"
      ]
     },
     "metadata": {},
     "output_type": "display_data"
    }
   ],
   "source": [
    "#Basic statistics and visualizations\n",
    "df_count = pd.DataFrame(train.value_counts(subset = [\"Sex\", \"Survived\"]))\n",
    "\n",
    "\n",
    "count_list=list(df_count[\"count\"])\n",
    "count_list = (count_list[0],count_list[3],count_list[2],count_list[1])\n",
    "x_labels = [\"Male not survived\",\"Famle not survived\",\"Male survived\",\"Famle survived\"]\n",
    "for x in range(4):\n",
    "  print(x_labels[x]+\"=\"+(str(count_list[x])), end =\".\")\n",
    "print(\"\\n\")\n",
    "fig, ax = plt.subplots(1,2, figsize = (10,6))\n",
    "ax[0].bar(x_labels[:2],count_list[:2], color = \"red\")\n",
    "ax[0].set_title('Deaths')\n",
    "ax[1].bar(x_labels[2:],count_list[2:], color = \"green\")\n",
    "ax[1].set_title('Survived')\n",
    "fig.suptitle(\"Titanic Deaths and Survived based on gender\")\n",
    "plt.show()\n",
    "\n"
   ]
  },
  {
   "cell_type": "markdown",
   "id": "5f4f158e-f07e-4f86-97e2-b9b37bd98e51",
   "metadata": {},
   "source": [
    "#### Two pie charts showing the distribution of passengers by class (1st, 2nd, 3rd) among those who survived and those who died on the Titanic"
   ]
  },
  {
   "cell_type": "code",
   "execution_count": 17,
   "id": "5865456d-173b-49cd-a2a8-44ff9c53c940",
   "metadata": {},
   "outputs": [
    {
     "data": {
      "image/png": "[encoded data removed]",
      "text/plain": [
       "<Figure size 1000x600 with 2 Axes>"
      ]
     },
     "metadata": {},
     "output_type": "display_data"
    }
   ],
   "source": [
    "#visualizations statistics \n",
    "fig, ax = plt.subplots(1,2,figsize = (10,6))\n",
    "pallete_color=[\"#8e00fd\",\"#ff0077\",\"#ff7d77\"]\n",
    "surved = train[train[\"Survived\"] == 1]\n",
    "notSurved = train[train[\"Survived\"] == 0]\n",
    "ax[0].pie(surved[\"Pclass\"].value_counts(), labels = [\"1st class\", \"2st class\", \"3st class\"], colors = pallete_color, autopct = '%.0f%%')\n",
    "ax[1].pie(notSurved[\"Pclass\"].value_counts(), labels = [\"1st class\", \"2st class\", \"3st class\"], colors = pallete_color, autopct = '%.0f%%')\n",
    "ax[0].set_title(\"Survived\")\n",
    "ax[1].set_title(\"Died\")\n",
    "plt.show()"
   ]
  },
  {
   "cell_type": "markdown",
   "id": "55dc838d-810e-419b-88f3-8e7ebef4d032",
   "metadata": {},
   "source": [
    "#### Creates a density plot showing the age distribution of passengers who survived (in green) versus those who did not survive (in red)"
   ]
  },
  {
   "cell_type": "code",
   "execution_count": 19,
   "id": "2b560818-ce04-4472-b224-b59ba71bd7a6",
   "metadata": {},
   "outputs": [
    {
     "data": {
      "image/png": "[encoded data removed]",
      "text/plain": [
       "<Figure size 800x400 with 1 Axes>"
      ]
     },
     "metadata": {},
     "output_type": "display_data"
    }
   ],
   "source": [
    "#visualizations statistics\n",
    "fig, ax = plt.subplots(figsize=(8, 4))\n",
    "sns.kdeplot(surved['Age'], ax=ax, label='Survived', color='green')\n",
    "sns.kdeplot(notSurved['Age'], ax=ax, label='Not Survived', color='red')\n",
    "ax.set_xlabel('Age')\n",
    "ax.set_ylabel('Density')\n",
    "ax.set_title('Age distribution by survival ')\n",
    "ax.legend()\n",
    "plt.show()"
   ]
  },
  {
   "cell_type": "markdown",
   "id": "fb36672a",
   "metadata": {},
   "source": [
    "## Part 3 - Experiments\n",
    "You could add as many code cells as needed"
   ]
  },
  {
   "cell_type": "markdown",
   "id": "4ef30298-8a95-4e1d-8797-4fb0e8634f6f",
   "metadata": {},
   "source": [
    "### 3.1 Feature engineering"
   ]
  },
  {
   "cell_type": "markdown",
   "id": "787fe5de-6344-4e9f-b85f-de9d2d58f188",
   "metadata": {},
   "source": [
    "* In this part I will be using 4 different learning algorithms, two of them we learned in class (KNN, Naive Bayes) and two of them we did not learn (Random Forest, Gradient Boosting) the following pipeline removes low-variance features, selects top features, scales them, and applies the algorithms for classification, I am creating one for each algorithm (KNN, Naive Bayes, Random Forest and Gradient Boosting) I will do a before and after to see the result of each model after using Grid Search and select the model with the best f1 score"
   ]
  },
  {
   "cell_type": "markdown",
   "id": "699d5ccc-ac0e-4525-a96d-792f90d323f3",
   "metadata": {},
   "source": [
    "#### KNN"
   ]
  },
  {
   "cell_type": "code",
   "execution_count": 24,
   "id": "ee501429-d4f7-45e8-947a-605d030b2a1d",
   "metadata": {},
   "outputs": [],
   "source": [
    "pipe_KNN = Pipeline([\n",
    "    ('varianceThreshold', VarianceThreshold()),\n",
    "    ('KBest', SelectKBest()),\n",
    "    ('StandardScaler', StandardScaler()),\n",
    "    ('KNN', KNN())\n",
    "])"
   ]
  },
  {
   "cell_type": "markdown",
   "id": "a434384c-b04f-437a-87e7-382aeee29af5",
   "metadata": {},
   "source": [
    "#### Naive Bayes"
   ]
  },
  {
   "cell_type": "code",
   "execution_count": 26,
   "id": "af1bb65e-a30b-42de-8950-c2a9401b9b17",
   "metadata": {},
   "outputs": [],
   "source": [
    "pipe_NB = Pipeline([\n",
    "    ('varianceThreshold', VarianceThreshold()),\n",
    "    ('KBest', SelectKBest()),\n",
    "    ('MinMaxScaler', MinMaxScaler()),\n",
    "    ('NaiveBayes', nb())\n",
    "])"
   ]
  },
  {
   "cell_type": "markdown",
   "id": "8f7d6e47-a1cd-4c16-b884-ff0e3c32cfb6",
   "metadata": {},
   "source": [
    "#### RandomForest"
   ]
  },
  {
   "cell_type": "markdown",
   "id": "7fdc9e05-b615-4a18-ae0d-eed011b530bc",
   "metadata": {},
   "source": [
    "* Builds multiple decision trees on random data subsets and combines their predictions, reducing overfitting and improving accuracy."
   ]
  },
  {
   "cell_type": "code",
   "execution_count": 29,
   "id": "47cb38e7-c0b2-4588-81d4-c483bf6a9f02",
   "metadata": {},
   "outputs": [],
   "source": [
    "pipe_rf = Pipeline([\n",
    "    ('varianceThreshold', VarianceThreshold()),\n",
    "    ('KBest', SelectKBest()),\n",
    "    ('MinMaxScaler', MinMaxScaler()),\n",
    "    ('RandomForest', rf(random_state=42))\n",
    "])"
   ]
  },
  {
   "cell_type": "markdown",
   "id": "ebe0c0b1-42ca-4027-a161-875fc0699c09",
   "metadata": {},
   "source": [
    "#### Gradient Boosting"
   ]
  },
  {
   "cell_type": "markdown",
   "id": "29314e5d-2138-4fc6-9e2c-54a4850c097a",
   "metadata": {},
   "source": [
    "* Sequentially builds trees to correct previous errors, offering high accuracy but with increased sensitivity to overfitting."
   ]
  },
  {
   "cell_type": "code",
   "execution_count": 32,
   "id": "75005edc-c1a3-46cf-9195-a3fc62fb228e",
   "metadata": {},
   "outputs": [],
   "source": [
    "pipe_gbc = Pipeline([\n",
    "    ('varianceThreshold', VarianceThreshold()),\n",
    "    ('KBest', SelectKBest()),\n",
    "    ('MinMaxScaler', MinMaxScaler()),\n",
    "    ('gbc', gbc(random_state=42))\n",
    "])"
   ]
  },
  {
   "cell_type": "markdown",
   "id": "6ab503ef-89d3-4d15-9be3-fa0a75db7dda",
   "metadata": {},
   "source": [
    "#### 3.2 Hyper parameters"
   ]
  },
  {
   "cell_type": "markdown",
   "id": "85b2f6a3-b4dd-4ddd-9d59-f4ec6133ef11",
   "metadata": {},
   "source": [
    "* The hyperparameter grid is designed to optimize the models by testing different values for the number of neighbors, distance metrics, variance thresholds for feature removal, and whether to use all or selected features. I am using hyperparameters to try and get the best result out of the models"
   ]
  },
  {
   "cell_type": "code",
   "execution_count": 35,
   "id": "79d085ea-9d84-40b2-baca-ea900d0098c2",
   "metadata": {},
   "outputs": [],
   "source": [
    "params_KNN = {\n",
    "    'KNN__n_neighbors':  range(1,14),\n",
    "    'varianceThreshold__threshold': [0.002, 0.051, 0.010, 0.20, 0.004, 0.5],\n",
    "    'KBest__k': ['all'],\n",
    "    'KNN__metric' : ['manhattan', 'euclidean',\"minkowski\"]\n",
    "}"
   ]
  },
  {
   "cell_type": "code",
   "execution_count": 36,
   "id": "b4aa26e9-fbc2-4748-8826-63489c548e2e",
   "metadata": {},
   "outputs": [],
   "source": [
    "params_NB = {\n",
    "    'NaiveBayes__alpha':  [0.023, 0.005, 0.01, 0.009, 3.0, 1.0, 7.0, 20.0],\n",
    "    'KBest__k': ['all'],\n",
    "    'varianceThreshold__threshold': [0.01, 0.1, 0.2, 0.4, 0.5, 1e-2, 1e-1, 1, 10, 100],\n",
    "    'NaiveBayes__force_alpha': [True, False],\n",
    "    'NaiveBayes__fit_prior': [True, False]\n",
    "}"
   ]
  },
  {
   "cell_type": "code",
   "execution_count": 37,
   "id": "7a8b28b7-96af-4f2f-8c11-6eb63d83257c",
   "metadata": {},
   "outputs": [],
   "source": [
    "params_rf = {\n",
    "    'RandomForest__n_estimators': [50, 100],  \n",
    "    'RandomForest__max_depth': [2, 10, 20],\n",
    "    'RandomForest__min_samples_split': [2, 8],\n",
    "    'RandomForest__min_samples_leaf': [1, 2],\n",
    "    'KBest__k': ['all'],\n",
    "    'varianceThreshold__threshold': [0.001]\n",
    "}"
   ]
  },
  {
   "cell_type": "code",
   "execution_count": 38,
   "id": "5818e586-e6ff-416c-adc5-633f7535c6c1",
   "metadata": {},
   "outputs": [],
   "source": [
    "params_gbc = {\n",
    "    'gbc__n_estimators' : [150, 400],\n",
    "    'gbc__learning_rate' : [0.07, 0.003, 0.002],\n",
    "    'KBest__k': ['all'],\n",
    "    'varianceThreshold__threshold': [0.001,0.01]\n",
    "}"
   ]
  },
  {
   "cell_type": "markdown",
   "id": "0e69eb8d-be7d-423d-9a95-d44f8f65bfc2",
   "metadata": {},
   "source": [
    "#### 3.3 Cross validation"
   ]
  },
  {
   "cell_type": "markdown",
   "id": "237a01f6-7bbe-427a-95ac-72ff1bb4c38b",
   "metadata": {},
   "source": [
    "#### Experiment"
   ]
  },
  {
   "cell_type": "markdown",
   "id": "ea575e32-9f5f-40da-802a-d3c56fd3985a",
   "metadata": {},
   "source": [
    "* Here we can see the result of f1 score before grid search method "
   ]
  },
  {
   "cell_type": "markdown",
   "id": "3e8f51b5-317c-48ee-9988-b55d439b9444",
   "metadata": {},
   "source": [
    "#### KNN"
   ]
  },
  {
   "cell_type": "code",
   "execution_count": 43,
   "id": "5d515620-0b42-4841-a191-33c8b92d07f5",
   "metadata": {},
   "outputs": [
    {
     "name": "stdout",
     "output_type": "stream",
     "text": [
      "F1 score estimate for the KNN model:  0.5666666666666667\n"
     ]
    }
   ],
   "source": [
    "train_copy = train.copy()\n",
    "test_copy = test.copy()\n",
    "model = KNN(n_neighbors=3, metric = \"manhattan\")\n",
    "model.fit(train_copy.drop('Survived', axis = 1), train_copy['Survived'])\n",
    "y_predict = model.predict(test_copy.drop('Survived', axis = 1))\n",
    "cm = confusion_matrix(test_copy['Survived'], y_predict)\n",
    "baseline_f1_knn = f1_score(test_copy['Survived'], y_predict)\n",
    "print(\"F1 score estimate for the KNN model: \", baseline_f1_knn)"
   ]
  },
  {
   "cell_type": "markdown",
   "id": "be2ca263-7955-430f-80db-9352a0da6b10",
   "metadata": {},
   "source": [
    "#### Naive Bayes"
   ]
  },
  {
   "cell_type": "code",
   "execution_count": 45,
   "id": "75c6c0d4-febd-4e28-a42e-eb41341d9985",
   "metadata": {},
   "outputs": [
    {
     "name": "stdout",
     "output_type": "stream",
     "text": [
      "F1 score estimate for the Naive Bayes model:  0.5242718446601942\n"
     ]
    }
   ],
   "source": [
    "model = nb(alpha = 0.9, fit_prior = False)\n",
    "model.fit(train_copy.drop('Survived', axis = 1), train_copy['Survived'])\n",
    "y_predict = model.predict(test_copy.drop('Survived', axis = 1))\n",
    "cm = confusion_matrix(test_copy['Survived'], y_predict)\n",
    "baseline_f1_nb = f1_score(test_copy['Survived'], y_predict)\n",
    "print(\"F1 score estimate for the Naive Bayes model: \", baseline_f1_nb)"
   ]
  },
  {
   "cell_type": "markdown",
   "id": "f123255b-034c-4c9d-ac3d-39893b43374d",
   "metadata": {},
   "source": [
    "#### RandomForest"
   ]
  },
  {
   "cell_type": "code",
   "execution_count": 47,
   "id": "ef5dcbda-7d97-4fa4-bcf6-d5c9e9ad7c99",
   "metadata": {},
   "outputs": [
    {
     "name": "stdout",
     "output_type": "stream",
     "text": [
      "F1 score estimate for the RandomForest model:  0.8275862068965517\n"
     ]
    }
   ],
   "source": [
    "model = rf(n_estimators=100, max_depth=10, random_state=42)\n",
    "model.fit(train_copy.drop('Survived', axis=1), train_copy['Survived'])\n",
    "y_predict = model.predict(test_copy.drop('Survived', axis=1))\n",
    "cm = confusion_matrix(test_copy['Survived'], y_predict)\n",
    "baseline_f1_rf = f1_score(test_copy['Survived'], y_predict)\n",
    "print(\"F1 score estimate for the RandomForest model: \", baseline_f1_rf)"
   ]
  },
  {
   "cell_type": "markdown",
   "id": "fb01b93f-94f4-4b5a-85e0-5950c85f62ba",
   "metadata": {},
   "source": [
    "#### Gradient Boosting"
   ]
  },
  {
   "cell_type": "code",
   "execution_count": 49,
   "id": "834465e5-9d0a-4a60-9f75-278d8a007f45",
   "metadata": {},
   "outputs": [
    {
     "name": "stdout",
     "output_type": "stream",
     "text": [
      "F1 score estimate for the Gradient Boosting model:  0.8245614035087719\n"
     ]
    }
   ],
   "source": [
    "model = gbc(n_estimators = 150, learning_rate = 0.09)\n",
    "model.fit(train_copy.drop('Survived', axis = 1), train_copy['Survived'])\n",
    "y_predict = model.predict(test_copy.drop('Survived', axis = 1))\n",
    "cm = confusion_matrix(test_copy['Survived'], y_predict)\n",
    "baseline_f1_gbc = f1_score(test_copy['Survived'], y_predict)\n",
    "print(\"F1 score estimate for the Gradient Boosting model: \", baseline_f1_gbc)"
   ]
  },
  {
   "cell_type": "markdown",
   "id": "702dff0d-3a08-48d8-b81e-0aebd64e3cff",
   "metadata": {},
   "source": [
    "#### Result"
   ]
  },
  {
   "cell_type": "code",
   "execution_count": 51,
   "id": "a66fd188-e21e-43aa-bd28-af64deb30cf6",
   "metadata": {},
   "outputs": [
    {
     "data": {
      "text/html": [
       "<div>\n",
       "<style scoped>\n",
       "    .dataframe tbody tr th:only-of-type {\n",
       "        vertical-align: middle;\n",
       "    }\n",
       "\n",
       "    .dataframe tbody tr th {\n",
       "        vertical-align: top;\n",
       "    }\n",
       "\n",
       "    .dataframe thead th {\n",
       "        text-align: right;\n",
       "    }\n",
       "</style>\n",
       "<table border=\"1\" class=\"dataframe\">\n",
       "  <thead>\n",
       "    <tr style=\"text-align: right;\">\n",
       "      <th></th>\n",
       "      <th>Model</th>\n",
       "      <th>F1 Score</th>\n",
       "    </tr>\n",
       "  </thead>\n",
       "  <tbody>\n",
       "    <tr>\n",
       "      <th>0</th>\n",
       "      <td>KNN</td>\n",
       "      <td>0.57</td>\n",
       "    </tr>\n",
       "    <tr>\n",
       "      <th>1</th>\n",
       "      <td>Naive Bayes</td>\n",
       "      <td>0.52</td>\n",
       "    </tr>\n",
       "    <tr>\n",
       "      <th>2</th>\n",
       "      <td>Random Forest</td>\n",
       "      <td>0.83</td>\n",
       "    </tr>\n",
       "    <tr>\n",
       "      <th>3</th>\n",
       "      <td>Gradient Boosting</td>\n",
       "      <td>0.82</td>\n",
       "    </tr>\n",
       "  </tbody>\n",
       "</table>\n",
       "</div>"
      ],
      "text/plain": [
       "               Model  F1 Score\n",
       "0                KNN      0.57\n",
       "1        Naive Bayes      0.52\n",
       "2      Random Forest      0.83\n",
       "3  Gradient Boosting      0.82"
      ]
     },
     "execution_count": 51,
     "metadata": {},
     "output_type": "execute_result"
    }
   ],
   "source": [
    "f1_arr_baseline = [\n",
    "    round(baseline_f1_knn, 2), \n",
    "    round(baseline_f1_nb, 2), \n",
    "    round(baseline_f1_rf, 2), \n",
    "    round(baseline_f1_gbc, 2)\n",
    "]\n",
    "comparison_table = pd.DataFrame({\n",
    "    \"Model\": [\"KNN\", \"Naive Bayes\", \"Random Forest\", \"Gradient Boosting\"],\n",
    "    \"F1 Score\": f1_arr_baseline\n",
    "})\n",
    "comparison_table"
   ]
  },
  {
   "cell_type": "markdown",
   "id": "c3e9b1c6-dd0c-4c25-ad53-3be5b6bdf6ad",
   "metadata": {},
   "source": [
    "##### we can see here that RandomForest got the best result\t"
   ]
  },
  {
   "cell_type": "markdown",
   "id": "699093e6-673c-4764-bda6-5204bcfbddda",
   "metadata": {},
   "source": [
    "#### 3.3 Grid Search"
   ]
  },
  {
   "cell_type": "markdown",
   "id": "87028ff5-564a-47b9-be30-d1227316d1e6",
   "metadata": {},
   "source": [
    "* Now in this part I am applying the grid search method on the models to see how it will change the f1 score and according to that choose the best model"
   ]
  },
  {
   "cell_type": "code",
   "execution_count": 55,
   "id": "94b9821a-9490-4144-b03e-6647512ea7c1",
   "metadata": {},
   "outputs": [
    {
     "name": "stdout",
     "output_type": "stream",
     "text": [
      "The optimal F1 score from the best configuration is:  0.749094017094017\n"
     ]
    }
   ],
   "source": [
    "folds = KFold(n_splits=5, shuffle=True, random_state=42)\n",
    "gridSearch = GridS(pipe_KNN, params_KNN, scoring='f1', cv=folds)\n",
    "gridSearch.fit(train.drop('Survived', axis = 1), train['Survived'])\n",
    "best_model_KNN = gridSearch.best_estimator_\n",
    "best_score_KNN = gridSearch.best_score_\n",
    "best_params_KNN = gridSearch.best_params_\n",
    "print(\"The optimal F1 score from the best configuration is: \" ,best_score_KNN)"
   ]
  },
  {
   "cell_type": "code",
   "execution_count": 56,
   "id": "779be1ef-85e7-4bb2-97c5-9ed55f707a7b",
   "metadata": {},
   "outputs": [
    {
     "name": "stdout",
     "output_type": "stream",
     "text": [
      "The optimal F1 score from the best configuration is:  0.6912484293899673\n"
     ]
    }
   ],
   "source": [
    "folds = KFold(n_splits=5, shuffle=True, random_state=42)\n",
    "    \n",
    "gridSearch = GridS(pipe_NB, params_NB, scoring='f1', cv=folds)\n",
    "gridSearch.fit(train.drop('Survived', axis = 1), train['Survived'])\n",
    "best_model_NB = gridSearch.best_estimator_\n",
    "best_score_NB = gridSearch.best_score_\n",
    "best_params_NB = gridSearch.best_params_\n",
    "print(\"The optimal F1 score from the best configuration is: \" , best_score_NB)"
   ]
  },
  {
   "cell_type": "code",
   "execution_count": 57,
   "id": "ed39fa6d-0be6-4ed7-a7d0-ecfc1a787226",
   "metadata": {},
   "outputs": [
    {
     "name": "stdout",
     "output_type": "stream",
     "text": [
      "The optimal F1 score from the best configuration is:  0.759871584591955\n"
     ]
    }
   ],
   "source": [
    "folds = KFold(n_splits=5, shuffle=True, random_state=42)\n",
    "gridSearch = GridS(pipe_rf, params_rf, scoring='f1', cv=folds)\n",
    "gridSearch.fit(train.drop('Survived', axis = 1), train['Survived'])\n",
    "best_model_rf = gridSearch.best_estimator_\n",
    "best_score_rf = gridSearch.best_score_\n",
    "best_params_rf = gridSearch.best_params_\n",
    "print(\"The optimal F1 score from the best configuration is: \" , best_score_rf)"
   ]
  },
  {
   "cell_type": "code",
   "execution_count": 58,
   "id": "d019b74e-1714-4f25-82fa-baff8d1fff89",
   "metadata": {},
   "outputs": [
    {
     "name": "stdout",
     "output_type": "stream",
     "text": [
      "The optimal F1 score from the best configuration is:  0.754733153955122\n"
     ]
    }
   ],
   "source": [
    "folds = KFold(n_splits=5, shuffle=True, random_state=42)\n",
    "gridSearch = GridS(pipe_gbc, params_gbc, scoring='f1', cv=folds)\n",
    "gridSearch.fit(train.drop('Survived', axis = 1), train['Survived'])\n",
    "best_model_gbc = gridSearch.best_estimator_\n",
    "best_score_gbc = gridSearch.best_score_\n",
    "best_params_gbc = gridSearch.best_params_\n",
    "print(\"The optimal F1 score from the best configuration is: \" , best_score_gbc)"
   ]
  },
  {
   "cell_type": "markdown",
   "id": "0e0299db-291d-42e0-af06-d8624f8b82d3",
   "metadata": {},
   "source": [
    "#### Result"
   ]
  },
  {
   "cell_type": "code",
   "execution_count": 60,
   "id": "4bbaebd2-94b3-4096-9daf-e8bb8333ddcf",
   "metadata": {},
   "outputs": [
    {
     "data": {
      "text/html": [
       "<div>\n",
       "<style scoped>\n",
       "    .dataframe tbody tr th:only-of-type {\n",
       "        vertical-align: middle;\n",
       "    }\n",
       "\n",
       "    .dataframe tbody tr th {\n",
       "        vertical-align: top;\n",
       "    }\n",
       "\n",
       "    .dataframe thead th {\n",
       "        text-align: right;\n",
       "    }\n",
       "</style>\n",
       "<table border=\"1\" class=\"dataframe\">\n",
       "  <thead>\n",
       "    <tr style=\"text-align: right;\">\n",
       "      <th></th>\n",
       "      <th>Model</th>\n",
       "      <th>F1 Score</th>\n",
       "    </tr>\n",
       "  </thead>\n",
       "  <tbody>\n",
       "    <tr>\n",
       "      <th>0</th>\n",
       "      <td>KNN</td>\n",
       "      <td>0.75</td>\n",
       "    </tr>\n",
       "    <tr>\n",
       "      <th>1</th>\n",
       "      <td>Naive Bayes</td>\n",
       "      <td>0.69</td>\n",
       "    </tr>\n",
       "    <tr>\n",
       "      <th>2</th>\n",
       "      <td>Random Forest</td>\n",
       "      <td>0.76</td>\n",
       "    </tr>\n",
       "    <tr>\n",
       "      <th>3</th>\n",
       "      <td>Gradient Boosting</td>\n",
       "      <td>0.75</td>\n",
       "    </tr>\n",
       "  </tbody>\n",
       "</table>\n",
       "</div>"
      ],
      "text/plain": [
       "               Model  F1 Score\n",
       "0                KNN      0.75\n",
       "1        Naive Bayes      0.69\n",
       "2      Random Forest      0.76\n",
       "3  Gradient Boosting      0.75"
      ]
     },
     "execution_count": 60,
     "metadata": {},
     "output_type": "execute_result"
    }
   ],
   "source": [
    "f1_arr = [round(best_score_KNN, 2), round(best_score_NB, 2), round(best_score_rf, 2), round(best_score_gbc, 2)]\n",
    "labels = [\"KNN\", \"Naive Bayes\", \"Random Forest\", \"Gradient Boosting\"]\n",
    "df_f1_scores = pd.DataFrame({\n",
    "    'Model': labels,\n",
    "    'F1 Score': f1_arr\n",
    "})\n",
    "df_f1_scores"
   ]
  },
  {
   "cell_type": "markdown",
   "id": "5596fd7c-5a95-49c7-bbd9-c8fe460e1844",
   "metadata": {},
   "source": [
    "##### we can see here that RandomForest got the best result after the grid search method"
   ]
  },
  {
   "cell_type": "code",
   "execution_count": 62,
   "id": "62b73f76-1789-42ce-90da-12973137a7d5",
   "metadata": {},
   "outputs": [
    {
     "data": {
      "text/html": [
       "<div>\n",
       "<style scoped>\n",
       "    .dataframe tbody tr th:only-of-type {\n",
       "        vertical-align: middle;\n",
       "    }\n",
       "\n",
       "    .dataframe tbody tr th {\n",
       "        vertical-align: top;\n",
       "    }\n",
       "\n",
       "    .dataframe thead th {\n",
       "        text-align: right;\n",
       "    }\n",
       "</style>\n",
       "<table border=\"1\" class=\"dataframe\">\n",
       "  <thead>\n",
       "    <tr style=\"text-align: right;\">\n",
       "      <th></th>\n",
       "      <th>KBest__k</th>\n",
       "      <th>KNN__metric</th>\n",
       "      <th>KNN__n_neighbors</th>\n",
       "      <th>varianceThreshold__threshold</th>\n",
       "      <th>NaiveBayes__alpha</th>\n",
       "      <th>NaiveBayes__fit_prior</th>\n",
       "      <th>NaiveBayes__force_alpha</th>\n",
       "      <th>RandomForest__max_depth</th>\n",
       "      <th>RandomForest__min_samples_leaf</th>\n",
       "      <th>RandomForest__min_samples_split</th>\n",
       "      <th>RandomForest__n_estimators</th>\n",
       "      <th>gbc__learning_rate</th>\n",
       "      <th>gbc__n_estimators</th>\n",
       "      <th>F1 Score</th>\n",
       "    </tr>\n",
       "  </thead>\n",
       "  <tbody>\n",
       "    <tr>\n",
       "      <th>Random Forest</th>\n",
       "      <td>all</td>\n",
       "      <td>-</td>\n",
       "      <td>-</td>\n",
       "      <td>0.001</td>\n",
       "      <td>-</td>\n",
       "      <td>-</td>\n",
       "      <td>-</td>\n",
       "      <td>10</td>\n",
       "      <td>1</td>\n",
       "      <td>2</td>\n",
       "      <td>50</td>\n",
       "      <td>-</td>\n",
       "      <td>-</td>\n",
       "      <td>0.759872</td>\n",
       "    </tr>\n",
       "    <tr>\n",
       "      <th>Gradient Boosting</th>\n",
       "      <td>all</td>\n",
       "      <td>-</td>\n",
       "      <td>-</td>\n",
       "      <td>0.001</td>\n",
       "      <td>-</td>\n",
       "      <td>-</td>\n",
       "      <td>-</td>\n",
       "      <td>-</td>\n",
       "      <td>-</td>\n",
       "      <td>-</td>\n",
       "      <td>-</td>\n",
       "      <td>0.07</td>\n",
       "      <td>150</td>\n",
       "      <td>0.754733</td>\n",
       "    </tr>\n",
       "    <tr>\n",
       "      <th>KNN</th>\n",
       "      <td>all</td>\n",
       "      <td>manhattan</td>\n",
       "      <td>13</td>\n",
       "      <td>0.002</td>\n",
       "      <td>-</td>\n",
       "      <td>-</td>\n",
       "      <td>-</td>\n",
       "      <td>-</td>\n",
       "      <td>-</td>\n",
       "      <td>-</td>\n",
       "      <td>-</td>\n",
       "      <td>-</td>\n",
       "      <td>-</td>\n",
       "      <td>0.749094</td>\n",
       "    </tr>\n",
       "    <tr>\n",
       "      <th>Naive Bayes</th>\n",
       "      <td>all</td>\n",
       "      <td>-</td>\n",
       "      <td>-</td>\n",
       "      <td>0.01</td>\n",
       "      <td>20.0</td>\n",
       "      <td>False</td>\n",
       "      <td>True</td>\n",
       "      <td>-</td>\n",
       "      <td>-</td>\n",
       "      <td>-</td>\n",
       "      <td>-</td>\n",
       "      <td>-</td>\n",
       "      <td>-</td>\n",
       "      <td>0.691248</td>\n",
       "    </tr>\n",
       "  </tbody>\n",
       "</table>\n",
       "</div>"
      ],
      "text/plain": [
       "                  KBest__k KNN__metric KNN__n_neighbors  \\\n",
       "Random Forest          all           -                -   \n",
       "Gradient Boosting      all           -                -   \n",
       "KNN                    all   manhattan               13   \n",
       "Naive Bayes            all           -                -   \n",
       "\n",
       "                  varianceThreshold__threshold NaiveBayes__alpha  \\\n",
       "Random Forest                            0.001                 -   \n",
       "Gradient Boosting                        0.001                 -   \n",
       "KNN                                      0.002                 -   \n",
       "Naive Bayes                               0.01              20.0   \n",
       "\n",
       "                  NaiveBayes__fit_prior NaiveBayes__force_alpha  \\\n",
       "Random Forest                         -                       -   \n",
       "Gradient Boosting                     -                       -   \n",
       "KNN                                   -                       -   \n",
       "Naive Bayes                       False                    True   \n",
       "\n",
       "                  RandomForest__max_depth RandomForest__min_samples_leaf  \\\n",
       "Random Forest                          10                              1   \n",
       "Gradient Boosting                       -                              -   \n",
       "KNN                                     -                              -   \n",
       "Naive Bayes                             -                              -   \n",
       "\n",
       "                  RandomForest__min_samples_split RandomForest__n_estimators  \\\n",
       "Random Forest                                   2                         50   \n",
       "Gradient Boosting                               -                          -   \n",
       "KNN                                             -                          -   \n",
       "Naive Bayes                                     -                          -   \n",
       "\n",
       "                  gbc__learning_rate gbc__n_estimators  F1 Score  \n",
       "Random Forest                      -                 -  0.759872  \n",
       "Gradient Boosting               0.07               150  0.754733  \n",
       "KNN                                -                 -  0.749094  \n",
       "Naive Bayes                        -                 -  0.691248  "
      ]
     },
     "execution_count": 62,
     "metadata": {},
     "output_type": "execute_result"
    }
   ],
   "source": [
    "comparison_dictionary = {\n",
    "    'KNN': best_params_KNN,\n",
    "    'Naive Bayes': best_params_NB,\n",
    "    'Random Forest': best_params_rf,\n",
    "    'Gradient Boosting': best_params_gbc,\n",
    "}\n",
    "df = pd.DataFrame(comparison_dictionary)\n",
    "df.fillna(\"-\", inplace=True)\n",
    "df = df.T\n",
    "df[\"F1 Score\"] = [best_score_KNN, best_score_NB, best_score_rf, best_score_gbc]\n",
    "df.sort_values(by=\"F1 Score\", inplace=True, ascending=False)\n",
    "df"
   ]
  },
  {
   "cell_type": "markdown",
   "id": "ddc3f846-9483-4e79-a5ad-9bca1113c74f",
   "metadata": {},
   "source": [
    "* As we can see RandomForest got the best f1 result, we will choose this model for the next step"
   ]
  },
  {
   "cell_type": "markdown",
   "id": "079ecfc1-ed9a-456c-b6a4-cc2634d15be4",
   "metadata": {},
   "source": [
    "#### Best model"
   ]
  },
  {
   "cell_type": "code",
   "execution_count": 65,
   "id": "76e06315-1704-4631-a9f0-3bf00ef05425",
   "metadata": {},
   "outputs": [],
   "source": [
    "selected_model = best_model_rf"
   ]
  },
  {
   "cell_type": "markdown",
   "id": "67d97f11",
   "metadata": {},
   "source": [
    "## Part 4 - Training \n",
    "Use the best combination of feature engineering, model (algorithm and hyperparameters) from the experiment part (part 3)"
   ]
  },
  {
   "cell_type": "code",
   "execution_count": 67,
   "id": "93713ead",
   "metadata": {},
   "outputs": [],
   "source": [
    "selected_model.fit(train.drop('Survived', axis = 1), train['Survived'])\n",
    "y_predict = selected_model.predict(test.drop('Survived', axis = 1))"
   ]
  },
  {
   "cell_type": "markdown",
   "id": "259ab902",
   "metadata": {},
   "source": [
    "## Part 5 - Apply on test and show model performance estimation"
   ]
  },
  {
   "cell_type": "markdown",
   "id": "b67c7e9d-a49d-4fbd-aa1d-3ef26a64682c",
   "metadata": {},
   "source": [
    "* I will run tests on the best model to make sure it does give the best result"
   ]
  },
  {
   "cell_type": "code",
   "execution_count": 70,
   "id": "d9971aa5",
   "metadata": {},
   "outputs": [
    {
     "data": {
      "text/html": [
       "<div>\n",
       "<style scoped>\n",
       "    .dataframe tbody tr th:only-of-type {\n",
       "        vertical-align: middle;\n",
       "    }\n",
       "\n",
       "    .dataframe tbody tr th {\n",
       "        vertical-align: top;\n",
       "    }\n",
       "\n",
       "    .dataframe thead th {\n",
       "        text-align: right;\n",
       "    }\n",
       "</style>\n",
       "<table border=\"1\" class=\"dataframe\">\n",
       "  <thead>\n",
       "    <tr style=\"text-align: right;\">\n",
       "      <th></th>\n",
       "      <th>Pclass</th>\n",
       "      <th>Sex</th>\n",
       "      <th>Age</th>\n",
       "      <th>SibSp</th>\n",
       "      <th>Parch</th>\n",
       "      <th>Fare</th>\n",
       "      <th>Embarked</th>\n",
       "      <th>Survived</th>\n",
       "      <th>Survived Prediction</th>\n",
       "    </tr>\n",
       "  </thead>\n",
       "  <tbody>\n",
       "    <tr>\n",
       "      <th>0</th>\n",
       "      <td>3</td>\n",
       "      <td>1</td>\n",
       "      <td>35.000000</td>\n",
       "      <td>0</td>\n",
       "      <td>0</td>\n",
       "      <td>7.0500</td>\n",
       "      <td>0</td>\n",
       "      <td>0</td>\n",
       "      <td>0</td>\n",
       "    </tr>\n",
       "    <tr>\n",
       "      <th>1</th>\n",
       "      <td>3</td>\n",
       "      <td>1</td>\n",
       "      <td>30.000000</td>\n",
       "      <td>0</td>\n",
       "      <td>0</td>\n",
       "      <td>7.2500</td>\n",
       "      <td>0</td>\n",
       "      <td>0</td>\n",
       "      <td>0</td>\n",
       "    </tr>\n",
       "    <tr>\n",
       "      <th>2</th>\n",
       "      <td>3</td>\n",
       "      <td>1</td>\n",
       "      <td>29.699118</td>\n",
       "      <td>0</td>\n",
       "      <td>0</td>\n",
       "      <td>14.5000</td>\n",
       "      <td>0</td>\n",
       "      <td>0</td>\n",
       "      <td>0</td>\n",
       "    </tr>\n",
       "    <tr>\n",
       "      <th>3</th>\n",
       "      <td>3</td>\n",
       "      <td>0</td>\n",
       "      <td>21.000000</td>\n",
       "      <td>0</td>\n",
       "      <td>0</td>\n",
       "      <td>7.7500</td>\n",
       "      <td>2</td>\n",
       "      <td>0</td>\n",
       "      <td>1</td>\n",
       "    </tr>\n",
       "    <tr>\n",
       "      <th>4</th>\n",
       "      <td>3</td>\n",
       "      <td>1</td>\n",
       "      <td>32.000000</td>\n",
       "      <td>0</td>\n",
       "      <td>0</td>\n",
       "      <td>56.4958</td>\n",
       "      <td>0</td>\n",
       "      <td>1</td>\n",
       "      <td>1</td>\n",
       "    </tr>\n",
       "  </tbody>\n",
       "</table>\n",
       "</div>"
      ],
      "text/plain": [
       "   Pclass  Sex        Age  SibSp  Parch     Fare  Embarked  Survived  \\\n",
       "0       3    1  35.000000      0      0   7.0500         0         0   \n",
       "1       3    1  30.000000      0      0   7.2500         0         0   \n",
       "2       3    1  29.699118      0      0  14.5000         0         0   \n",
       "3       3    0  21.000000      0      0   7.7500         2         0   \n",
       "4       3    1  32.000000      0      0  56.4958         0         1   \n",
       "\n",
       "   Survived Prediction  \n",
       "0                    0  \n",
       "1                    0  \n",
       "2                    0  \n",
       "3                    1  \n",
       "4                    1  "
      ]
     },
     "execution_count": 70,
     "metadata": {},
     "output_type": "execute_result"
    }
   ],
   "source": [
    "pred_df = test.copy()\n",
    "pred_df[\"Survived Prediction\"] = y_predict\n",
    "pred_df.head()"
   ]
  },
  {
   "cell_type": "code",
   "execution_count": 71,
   "id": "00d8aa96",
   "metadata": {},
   "outputs": [
    {
     "name": "stdout",
     "output_type": "stream",
     "text": [
      "Confusion Matrix for Selected Model, F1 score of:  0.8448275862068966\n"
     ]
    },
    {
     "data": {
      "text/html": [
       "<div>\n",
       "<style scoped>\n",
       "    .dataframe tbody tr th:only-of-type {\n",
       "        vertical-align: middle;\n",
       "    }\n",
       "\n",
       "    .dataframe tbody tr th {\n",
       "        vertical-align: top;\n",
       "    }\n",
       "\n",
       "    .dataframe thead th {\n",
       "        text-align: right;\n",
       "    }\n",
       "</style>\n",
       "<table border=\"1\" class=\"dataframe\">\n",
       "  <thead>\n",
       "    <tr style=\"text-align: right;\">\n",
       "      <th></th>\n",
       "      <th>True</th>\n",
       "      <th>False</th>\n",
       "    </tr>\n",
       "  </thead>\n",
       "  <tbody>\n",
       "    <tr>\n",
       "      <th>True</th>\n",
       "      <td>112</td>\n",
       "      <td>6</td>\n",
       "    </tr>\n",
       "    <tr>\n",
       "      <th>False</th>\n",
       "      <td>12</td>\n",
       "      <td>49</td>\n",
       "    </tr>\n",
       "  </tbody>\n",
       "</table>\n",
       "</div>"
      ],
      "text/plain": [
       "       True  False\n",
       "True    112      6\n",
       "False    12     49"
      ]
     },
     "execution_count": 71,
     "metadata": {},
     "output_type": "execute_result"
    }
   ],
   "source": [
    "selected_model.fit(train.drop('Survived', axis = 1), train['Survived'])\n",
    "y_predict = selected_model.predict(test.drop('Survived', axis = 1))\n",
    "cm = confusion_matrix(test['Survived'], y_predict)\n",
    "best_f1 = f1_score(test['Survived'], y_predict)\n",
    "cm_df = pd.DataFrame(cm)\n",
    "cm_df.index = cm_df.columns = [\"True\", \"False\"]\n",
    "print(\"Confusion Matrix for Selected Model, F1 score of: \", best_f1)\n",
    "cm_df"
   ]
  },
  {
   "cell_type": "code",
   "execution_count": 72,
   "id": "ec63ac8a-6608-4e41-96b4-0e550147da50",
   "metadata": {},
   "outputs": [
    {
     "data": {
      "text/html": [
       "<div>\n",
       "<style scoped>\n",
       "    .dataframe tbody tr th:only-of-type {\n",
       "        vertical-align: middle;\n",
       "    }\n",
       "\n",
       "    .dataframe tbody tr th {\n",
       "        vertical-align: top;\n",
       "    }\n",
       "\n",
       "    .dataframe thead th {\n",
       "        text-align: right;\n",
       "    }\n",
       "</style>\n",
       "<table border=\"1\" class=\"dataframe\">\n",
       "  <thead>\n",
       "    <tr style=\"text-align: right;\">\n",
       "      <th></th>\n",
       "      <th>precision</th>\n",
       "      <th>recall</th>\n",
       "      <th>f1-score</th>\n",
       "      <th>support</th>\n",
       "    </tr>\n",
       "  </thead>\n",
       "  <tbody>\n",
       "    <tr>\n",
       "      <th>0</th>\n",
       "      <td>0.903226</td>\n",
       "      <td>0.949153</td>\n",
       "      <td>0.925620</td>\n",
       "      <td>118.000000</td>\n",
       "    </tr>\n",
       "    <tr>\n",
       "      <th>1</th>\n",
       "      <td>0.890909</td>\n",
       "      <td>0.803279</td>\n",
       "      <td>0.844828</td>\n",
       "      <td>61.000000</td>\n",
       "    </tr>\n",
       "    <tr>\n",
       "      <th>accuracy</th>\n",
       "      <td>0.899441</td>\n",
       "      <td>0.899441</td>\n",
       "      <td>0.899441</td>\n",
       "      <td>0.899441</td>\n",
       "    </tr>\n",
       "    <tr>\n",
       "      <th>macro avg</th>\n",
       "      <td>0.897067</td>\n",
       "      <td>0.876216</td>\n",
       "      <td>0.885224</td>\n",
       "      <td>179.000000</td>\n",
       "    </tr>\n",
       "    <tr>\n",
       "      <th>weighted avg</th>\n",
       "      <td>0.899028</td>\n",
       "      <td>0.899441</td>\n",
       "      <td>0.898087</td>\n",
       "      <td>179.000000</td>\n",
       "    </tr>\n",
       "  </tbody>\n",
       "</table>\n",
       "</div>"
      ],
      "text/plain": [
       "              precision    recall  f1-score     support\n",
       "0              0.903226  0.949153  0.925620  118.000000\n",
       "1              0.890909  0.803279  0.844828   61.000000\n",
       "accuracy       0.899441  0.899441  0.899441    0.899441\n",
       "macro avg      0.897067  0.876216  0.885224  179.000000\n",
       "weighted avg   0.899028  0.899441  0.898087  179.000000"
      ]
     },
     "execution_count": 72,
     "metadata": {},
     "output_type": "execute_result"
    }
   ],
   "source": [
    "report = classification_report(test['Survived'], y_predict,output_dict=True)\n",
    "df_report=pd.DataFrame(report)\n",
    "df_report.transpose()"
   ]
  },
  {
   "cell_type": "code",
   "execution_count": null,
   "id": "b860f231-2570-4e80-90e8-962bf1bd7ec6",
   "metadata": {},
   "outputs": [],
   "source": []
  }
 ],
 "metadata": {
  "kernelspec": {
   "display_name": "Python 3 (ipykernel)",
   "language": "python",
   "name": "python3"
  },
  "language_info": {
   "codemirror_mode": {
    "name": "ipython",
    "version": 3
   },
   "file_extension": ".py",
   "mimetype": "text/x-python",
   "name": "python",
   "nbconvert_exporter": "python",
   "pygments_lexer": "ipython3",
   "version": "3.12.4"
  }
 },
 "nbformat": 4,
 "nbformat_minor": 5
}
